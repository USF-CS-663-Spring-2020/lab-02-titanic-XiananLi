{
 "cells": [
  {
   "cell_type": "code",
   "execution_count": 44,
   "metadata": {},
   "outputs": [],
   "source": [
    "import pandas as pd\n",
    "import matplotlib.pyplot as plt\n",
    "import seaborn as sns\n",
    "%matplotlib inline\n",
    "df = pd.read_csv('titanic.csv')\n"
   ]
  },
  {
   "cell_type": "code",
   "execution_count": 41,
   "metadata": {},
   "outputs": [
    {
     "data": {
      "image/png": "[encoded data removed]",
      "text/plain": [
       "<Figure size 360x360 with 1 Axes>"
      ]
     },
     "metadata": {},
     "output_type": "display_data"
    }
   ],
   "source": [
    "sns.catplot(x=\"Survived\", y=\"Fare\", data=df);\n",
    "# This graph shows that if the Fare increase, there are more people survived(orange dots) than people not \n",
    "# survived(blue dots). Especially in Fare range 100 - 300"
   ]
  },
  {
   "cell_type": "code",
   "execution_count": 54,
   "metadata": {
    "scrolled": true
   },
   "outputs": [
    {
     "name": "stdout",
     "output_type": "stream",
     "text": [
      "     Survived  Pclass                               Name     Sex   Age  \\\n",
      "275         0       2                 Mr. Francis Parkes    male  21.0   \n",
      "478         0       2             Mr. Anthony Wood Frost    male  37.0   \n",
      "411         0       2      Mr. Alfred Fleming Cunningham    male  22.0   \n",
      "594         0       3                 Mr. Alfred Johnson    male  49.0   \n",
      "630         0       1       Mr. William Henry Marsh Parr    male  30.0   \n",
      "..        ...     ...                                ...     ...   ...   \n",
      "27          0       1      Mr. Charles Alexander Fortune    male  19.0   \n",
      "339         1       1      Miss. Alice Elizabeth Fortune  female  24.0   \n",
      "733         1       1              Mr. Gustave J Lesurer    male  35.0   \n",
      "257         1       1                    Miss. Anna Ward  female  35.0   \n",
      "676         1       1  Mr. Thomas Drake Martinez Cardeza    male  36.0   \n",
      "\n",
      "     Siblings/Spouses Aboard  Parents/Children Aboard      Fare  \n",
      "275                        0                        0    0.0000  \n",
      "478                        0                        0    0.0000  \n",
      "411                        0                        0    0.0000  \n",
      "594                        0                        0    0.0000  \n",
      "630                        0                        0    0.0000  \n",
      "..                       ...                      ...       ...  \n",
      "27                         3                        2  263.0000  \n",
      "339                        3                        2  263.0000  \n",
      "733                        0                        0  512.3292  \n",
      "257                        0                        0  512.3292  \n",
      "676                        0                        1  512.3292  \n",
      "\n",
      "[887 rows x 8 columns]\n"
     ]
    }
   ],
   "source": [
    "sort_by_fare = df.sort_values('Fare')\n",
    "print(sort_by_fare)\n",
    "# sort the whole data set by Fare"
   ]
  },
  {
   "cell_type": "code",
   "execution_count": 109,
   "metadata": {},
   "outputs": [
    {
     "data": {
      "text/html": [
       "<div>\n",
       "<style scoped>\n",
       "    .dataframe tbody tr th:only-of-type {\n",
       "        vertical-align: middle;\n",
       "    }\n",
       "\n",
       "    .dataframe tbody tr th {\n",
       "        vertical-align: top;\n",
       "    }\n",
       "\n",
       "    .dataframe thead th {\n",
       "        text-align: right;\n",
       "    }\n",
       "</style>\n",
       "<table border=\"1\" class=\"dataframe\">\n",
       "  <thead>\n",
       "    <tr style=\"text-align: right;\">\n",
       "      <th></th>\n",
       "      <th>Fare range</th>\n",
       "      <th>Survival</th>\n",
       "    </tr>\n",
       "  </thead>\n",
       "  <tbody>\n",
       "    <tr>\n",
       "      <th>0</th>\n",
       "      <td>0 - 7.7333</td>\n",
       "      <td>15</td>\n",
       "    </tr>\n",
       "    <tr>\n",
       "      <th>1</th>\n",
       "      <td>7.7333 - 7.8958</td>\n",
       "      <td>29</td>\n",
       "    </tr>\n",
       "    <tr>\n",
       "      <th>2</th>\n",
       "      <td>7.8958 - 8.6625</td>\n",
       "      <td>16</td>\n",
       "    </tr>\n",
       "    <tr>\n",
       "      <th>3</th>\n",
       "      <td>8.6625 - 13.0</td>\n",
       "      <td>35</td>\n",
       "    </tr>\n",
       "    <tr>\n",
       "      <th>4</th>\n",
       "      <td>13.0 - 18.75</td>\n",
       "      <td>40</td>\n",
       "    </tr>\n",
       "    <tr>\n",
       "      <th>5</th>\n",
       "      <td>18.75 - 26.2875</td>\n",
       "      <td>48</td>\n",
       "    </tr>\n",
       "    <tr>\n",
       "      <th>6</th>\n",
       "      <td>26.2875 - 39.0</td>\n",
       "      <td>42</td>\n",
       "    </tr>\n",
       "    <tr>\n",
       "      <th>7</th>\n",
       "      <td>39.0 - 77.9583</td>\n",
       "      <td>51</td>\n",
       "    </tr>\n",
       "    <tr>\n",
       "      <th>8</th>\n",
       "      <td>77.9583 - 512.3292</td>\n",
       "      <td>66</td>\n",
       "    </tr>\n",
       "  </tbody>\n",
       "</table>\n",
       "</div>"
      ],
      "text/plain": [
       "           Fare range  Survival\n",
       "0          0 - 7.7333        15\n",
       "1     7.7333 - 7.8958        29\n",
       "2     7.8958 - 8.6625        16\n",
       "3       8.6625 - 13.0        35\n",
       "4        13.0 - 18.75        40\n",
       "5     18.75 - 26.2875        48\n",
       "6      26.2875 - 39.0        42\n",
       "7      39.0 - 77.9583        51\n",
       "8  77.9583 - 512.3292        66"
      ]
     },
     "execution_count": 109,
     "metadata": {},
     "output_type": "execute_result"
    }
   ],
   "source": [
    "# form people into groups, each group contain certain amount of people\n",
    "# count number of survied people in that group\n",
    "num_in_group = 0\n",
    "survived = 0\n",
    "not_survived = 0\n",
    "start_range = 0\n",
    "end_range = 0\n",
    "result = {}\n",
    "\n",
    "for index, row in sort_by_fare.iterrows():\n",
    "    start_range = min(start_range, row['Fare'])\n",
    "    end_range = max(end_range, row['Fare'])\n",
    "    \n",
    "    if row['Survived'] == 1:\n",
    "        survived += 1\n",
    "    else: \n",
    "        not_survived += 1\n",
    "    num_in_group += 1\n",
    "    \n",
    "    \n",
    "    if num_in_group == 100:\n",
    "#         there are enought people in the each group\n",
    "#         add entry with price range and number of people survived\n",
    "        group_range = '{} - {}'.format(start_range, end_range)\n",
    "        result[group_range] = survived\n",
    "    \n",
    "        start_range = end_range\n",
    "        end_range = 0\n",
    "        num_in_group = 0\n",
    "        survived = 0\n",
    "        not_survived = 0\n",
    "        \n",
    "# dealing with what leftover     \n",
    "group_range = '{} - {}'.format(start_range, end_range)\n",
    "result[group_range] = survived\n",
    "\n",
    "resultset = pd.DataFrame(list(result.items()), columns = ['Fare range', 'Survival'])\n",
    "resultset\n"
   ]
  },
  {
   "cell_type": "code",
   "execution_count": 110,
   "metadata": {},
   "outputs": [
    {
     "data": {
      "image/png": "[encoded data removed]",
      "text/plain": [
       "<Figure size 360x360 with 1 Axes>"
      ]
     },
     "metadata": {
      "needs_background": "light"
     },
     "output_type": "display_data"
    }
   ],
   "source": [
    "sns.catplot(x=\"Fare range\", y=\"Survival\", kind=\"bar\", data=resultset);"
   ]
  },
  {
   "cell_type": "code",
   "execution_count": null,
   "metadata": {},
   "outputs": [],
   "source": []
  }
 ],
 "metadata": {
  "kernelspec": {
   "display_name": "Python 3",
   "language": "python",
   "name": "python3"
  },
  "language_info": {
   "codemirror_mode": {
    "name": "ipython",
    "version": 3
   },
   "file_extension": ".py",
   "mimetype": "text/x-python",
   "name": "python",
   "nbconvert_exporter": "python",
   "pygments_lexer": "ipython3",
   "version": "3.8.1"
  }
 },
 "nbformat": 4,
 "nbformat_minor": 4
}
